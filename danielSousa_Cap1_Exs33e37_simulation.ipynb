{
  "nbformat": 4,
  "nbformat_minor": 0,
  "metadata": {
    "colab": {
      "name": "georgeRappel-Cap1-Exs33e37-simulacao",
      "provenance": [],
      "include_colab_link": true
    },
    "kernelspec": {
      "name": "python3",
      "display_name": "Python 3"
    },
    "language_info": {
      "name": "python"
    }
  },
  "cells": [
    {
      "cell_type": "markdown",
      "metadata": {
        "id": "view-in-github",
        "colab_type": "text"
      },
      "source": [
        "<a href=\"https://colab.research.google.com/github/daniellopes04/perfomance-evaluation/blob/main/danielSousa_Cap1_Exs33e37_simulation.ipynb\" target=\"_parent\"><img src=\"https://colab.research.google.com/assets/colab-badge.svg\" alt=\"Open In Colab\"/></a>"
      ]
    },
    {
      "cell_type": "markdown",
      "metadata": {
        "id": "5-rsVaSXvstp"
      },
      "source": [
        "# George Rappel\n",
        "\n",
        "## Cap 1, Exs 33 e 37 (Ver abaixo)\n",
        "\n",
        "### Ex. 33 - Simulações de retirada de cartas com reinserção no baralho:\n",
        "\n",
        "*Cards are drawn from a standard deck, with replacement, until an ace appears.\n",
        "Simulate the mean and variance of the number of cards required.*"
      ]
    },
    {
      "cell_type": "code",
      "metadata": {
        "colab": {
          "base_uri": "https://localhost:8080/"
        },
        "id": "2etjv8jyvow1",
        "outputId": "ad16025a-0265-4183-84b9-daeba1a66dde"
      },
      "source": [
        "import numpy as np\n",
        "import random\n",
        "import math\n",
        "import statistics\n",
        "from scipy import stats\n",
        "\n",
        "cartas_baralho = 52\n",
        "ases = [1, 14, 27, 40]\n",
        "\n",
        "n_simulacoes = 10000\n",
        "n_retiradas = []\n",
        "\n",
        "\n",
        "# Faz N simulações de retiradas\n",
        "for i in range(n_simulacoes):\n",
        "\n",
        "  # Conta o numero de retiradas ate sair um As\n",
        "  n_atual = 1\n",
        "  j = random.randint(1, cartas_baralho)\n",
        "  while j not in ases:\n",
        "    n_atual += 1\n",
        "    j = random.randint(1, cartas_baralho)\n",
        "  \n",
        "  # Salva o numero de retiradas em um array pra fazer o calculo\n",
        "  n_retiradas.append(n_atual)\n",
        "\n",
        "  \n",
        "var = statistics.variance(n_retiradas)\n",
        "mean = statistics.mean(n_retiradas)\n",
        "stdev = statistics.stdev(n_retiradas)\n",
        "\n",
        "print(\"Variância: \" + str(var))\n",
        "print(\"Média: \" + str(mean))\n",
        "print(\"Intervalo de Confiança da Média (95%): \" + str(stats.norm.interval(0.95, loc=mean, scale = stdev / math.sqrt(len(n_retiradas)) )))\n",
        "print(\"Samples = %s\" % n_simulacoes)"
      ],
      "execution_count": null,
      "outputs": [
        {
          "output_type": "stream",
          "text": [
            "Variância: 153.19524423442346\n",
            "Média: 12.9227\n",
            "Intervalo de Confiança da Média (95%): (12.680111207543977, 13.165288792456025)\n",
            "Samples = 10000\n"
          ],
          "name": "stdout"
        }
      ]
    },
    {
      "cell_type": "markdown",
      "metadata": {
        "id": "ZCNG3o1hwc5S"
      },
      "source": [
        "### Ex. 37 - Simular média e variância de acidentes por dia\n",
        "Do exercicio 1.28: *On any day, the number of accidents on the highway has a Poisson distribution with parameter Λ. The parameter Λ varies from day to day and is itself a random\n",
        "variable. Find the mean and variance of the number of accidents per day when\n",
        "Λ is uniformly distributed on (0, 3).*"
      ]
    },
    {
      "cell_type": "code",
      "metadata": {
        "colab": {
          "base_uri": "https://localhost:8080/"
        },
        "id": "GvJ6XXImzpUE",
        "outputId": "c0ff91f9-beb9-4bc2-b348-b688ece98907"
      },
      "source": [
        "import numpy as np\n",
        "import statistics\n",
        "from scipy import stats\n",
        "\n",
        "generator = np.random.default_rng() # Gerador aleatorio do numpy\n",
        "R = 100\n",
        "n_simulacoes = 1000\n",
        "medias = []\n",
        "\n",
        "for i in range(R):\n",
        "  acidentes_array = []\n",
        "  for j in range(n_simulacoes):\n",
        "    A = np.random.uniform(0, 3)\n",
        "    n_acidentes = np.random.poisson(A)\n",
        "    acidentes_array.append(n_acidentes)\n",
        "  medias.append(statistics.mean(acidentes_array))\n",
        "\n",
        "var = statistics.variance(medias)\n",
        "mean = statistics.mean(medias)\n",
        "stdev = statistics.stdev(medias)\n",
        "\n",
        "print(\"Variância: \" + str(var))\n",
        "print(\"Media: \" + str(mean))\n",
        "print(\"Deviation: \" + str(stdev))\n",
        "print(\"Intervalo de Confiança da Média (95%): \" + str(stats.norm.interval(0.95, loc=mean, scale = stdev / np.sqrt(len(medias)) )))\n",
        "\n",
        "# Intervalo de Confiança segundo a resposta do Leonardo https://stackoverflow.com/c/ad-2020-2/a/64/7\n",
        "z = 1.96\n",
        "std_err = stdev/np.sqrt(len(medias))\n",
        "intervalo_de_confianca = (mean - z * std_err, mean + z * std_err)\n",
        "print(\"Intervalo de Confiança (95%) fórmula do Leonardo: \" + str(intervalo_de_confianca) )\n"
      ],
      "execution_count": null,
      "outputs": [
        {
          "output_type": "stream",
          "text": [
            "Variância: 0.0021165555555555543\n",
            "Media: 1.4939\n",
            "Deviation: 0.046006038251033464\n",
            "Intervalo de Confiança da Média (95%): (1.4848829821956602, 1.5029170178043398)\n",
            "Intervalo de Confiança (95%) fórmula do Leonardo: (1.4848828165027974, 1.5029171834972026)\n"
          ],
          "name": "stdout"
        }
      ]
    },
    {
      "cell_type": "markdown",
      "metadata": {
        "id": "cOTa5C53mJ2Z"
      },
      "source": [
        "Plotando os acidentes, vemos uma poisson:"
      ]
    },
    {
      "cell_type": "code",
      "metadata": {
        "colab": {
          "base_uri": "https://localhost:8080/",
          "height": 265
        },
        "id": "kEtNXj-cktUx",
        "outputId": "ef9fc099-f389-4205-905c-03ed92fe8bf3"
      },
      "source": [
        "import seaborn as sns\n",
        "sns.histplot(acidentes_array, stat='probability');"
      ],
      "execution_count": null,
      "outputs": [
        {
          "output_type": "display_data",
          "data": {
            "image/png": "[encoded data removed]",
            "text/plain": [
              "<Figure size 432x288 with 1 Axes>"
            ]
          },
          "metadata": {
            "tags": [],
            "needs_background": "light"
          }
        }
      ]
    },
    {
      "cell_type": "markdown",
      "metadata": {
        "id": "P2xigwpHmNPv"
      },
      "source": [
        "Porém, plotando as médias, observamos uma curva normal. Isso se dá pelo Teorema Centrald do Limite, como comentado em aula."
      ]
    },
    {
      "cell_type": "code",
      "metadata": {
        "colab": {
          "base_uri": "https://localhost:8080/",
          "height": 265
        },
        "id": "l5s6eEapT5xk",
        "outputId": "80ff35d9-cd74-4390-fa68-59c6ba219bef"
      },
      "source": [
        "import seaborn as sns\n",
        "\n",
        "sns.histplot(medias, stat='probability');"
      ],
      "execution_count": null,
      "outputs": [
        {
          "output_type": "display_data",
          "data": {
            "image/png": "[encoded data removed]",
            "text/plain": [
              "<Figure size 432x288 with 1 Axes>"
            ]
          },
          "metadata": {
            "tags": [],
            "needs_background": "light"
          }
        }
      ]
    }
  ]
}